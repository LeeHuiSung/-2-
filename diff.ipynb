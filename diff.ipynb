{
 "cells": [
  {
   "cell_type": "code",
   "execution_count": 1,
   "metadata": {},
   "outputs": [
    {
     "name": "stdout",
     "output_type": "stream",
     "text": [
      "2\n",
      "-1/6\n",
      "7/6\n",
      "0/1\n",
      "y = +( -1 / 3 ) *x^ 1 +( 7 / 6 ) *x^ 0 "
     ]
    }
   ],
   "source": [
    "def gcd(A,B):\n",
    "    while B>0 :\n",
    "        A,B = B,A%B\n",
    "        pass\n",
    "    return A\n",
    "\n",
    "class 미분:\n",
    "    def __init__(self,차수,계수분자,계수분모):\n",
    "        self.최고차수 = int(차수)\n",
    "        self.원함수계수분자 = 계수분자\n",
    "        self.원함수계수분모 = 계수분모\n",
    "        self.계수분자 = []\n",
    "        self.계수분모 = []\n",
    "        pass\n",
    "    \n",
    "    def 분수계산(self,분자,분모):\n",
    "        출력분자 = int(분자)\n",
    "        출력분모 = int(분모)\n",
    "        공통인수 = gcd(출력분자,출력분모)\n",
    "        출력분자 /= 공통인수\n",
    "        출력분모 /= 공통인수\n",
    "        return (출력분자,출력분모)\n",
    "    \n",
    "    def 도함수(self):\n",
    "        for i in range(int(self.최고차수)):\n",
    "            self.계수분자.append(int(self.원함수계수분자[i])*(int(self.최고차수)-i))\n",
    "            self.계수분모.append(int(self.원함수계수분모[i]))\n",
    "            pass\n",
    "        \n",
    "        for i in range(int(self.최고차수)):\n",
    "            if self.계수분모[i]<0:\n",
    "                self.계수분자[i] *= -1\n",
    "                self.계수분모[i] *= -1\n",
    "                pass\n",
    "            if self.계수분자[i] != 0:\n",
    "                (self.계수분자[i],self.계수분모[i]) = self.분수계산(self.계수분자[i],self.계수분모[i])\n",
    "                pass\n",
    "            pass\n",
    "        pass\n",
    "    \n",
    "    def 출력(self):\n",
    "        print('y =',end=' ')\n",
    "        for i in range(int(self.최고차수)):\n",
    "            print('+(',int(self.계수분자[i]),'/',int(self.계수분모[i]),')','*x^',(int(self.최고차수)-i-1),end=' ')\n",
    "        pass\n",
    "    \n",
    "    pass\n",
    "\n",
    "차수 = input()\n",
    "계수분자 = []\n",
    "계수분모 = []\n",
    "for i in range(int(차수)+1):\n",
    "    임시분자, 임시분모 = input().split('/')\n",
    "    계수분자.append(int(임시분자))\n",
    "    계수분모.append(int(임시분모))\n",
    "    pass\n",
    "\n",
    "테스트 = 미분(차수,계수분자,계수분모)\n",
    "테스트.도함수()\n",
    "#print(테스트.계수분자)\n",
    "#print(테스트.계수분모)\n",
    "테스트.출력()"
   ]
  },
  {
   "cell_type": "code",
   "execution_count": null,
   "metadata": {},
   "outputs": [],
   "source": []
  }
 ],
 "metadata": {
  "kernelspec": {
   "display_name": "Python 3",
   "language": "python",
   "name": "python3"
  },
  "language_info": {
   "codemirror_mode": {
    "name": "ipython",
    "version": 3
   },
   "file_extension": ".py",
   "mimetype": "text/x-python",
   "name": "python",
   "nbconvert_exporter": "python",
   "pygments_lexer": "ipython3",
   "version": "3.6.4"
  }
 },
 "nbformat": 4,
 "nbformat_minor": 2
}
